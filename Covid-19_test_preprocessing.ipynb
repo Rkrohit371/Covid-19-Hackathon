{
 "cells": [
  {
   "cell_type": "code",
   "execution_count": 3,
   "metadata": {},
   "outputs": [],
   "source": [
    "import pandas as pd\n",
    "import numpy as np\n",
    "import matplotlib.pyplot as plt\n",
    "%matplotlib inline\n",
    "import seaborn as sns"
   ]
  },
  {
   "cell_type": "code",
   "execution_count": 43,
   "metadata": {},
   "outputs": [],
   "source": [
    "test = pd.read_excel('Test_dataset.xlsx')"
   ]
  },
  {
   "cell_type": "code",
   "execution_count": 44,
   "metadata": {},
   "outputs": [
    {
     "data": {
      "text/html": [
       "<div>\n",
       "<style scoped>\n",
       "    .dataframe tbody tr th:only-of-type {\n",
       "        vertical-align: middle;\n",
       "    }\n",
       "\n",
       "    .dataframe tbody tr th {\n",
       "        vertical-align: top;\n",
       "    }\n",
       "\n",
       "    .dataframe thead th {\n",
       "        text-align: right;\n",
       "    }\n",
       "</style>\n",
       "<table border=\"1\" class=\"dataframe\">\n",
       "  <thead>\n",
       "    <tr style=\"text-align: right;\">\n",
       "      <th></th>\n",
       "      <th>people_ID</th>\n",
       "      <th>Region</th>\n",
       "      <th>Gender</th>\n",
       "      <th>Designation</th>\n",
       "      <th>Name</th>\n",
       "      <th>Married</th>\n",
       "      <th>Children</th>\n",
       "      <th>Occupation</th>\n",
       "      <th>Mode_transport</th>\n",
       "      <th>cases/1M</th>\n",
       "      <th>...</th>\n",
       "      <th>Platelets</th>\n",
       "      <th>HBB</th>\n",
       "      <th>d-dimer</th>\n",
       "      <th>Heart rate</th>\n",
       "      <th>HDL cholesterol</th>\n",
       "      <th>Charlson Index</th>\n",
       "      <th>Blood Glucose</th>\n",
       "      <th>Insurance</th>\n",
       "      <th>salary</th>\n",
       "      <th>FT/month</th>\n",
       "    </tr>\n",
       "  </thead>\n",
       "  <tbody>\n",
       "    <tr>\n",
       "      <td>0</td>\n",
       "      <td>5942</td>\n",
       "      <td>Delhi</td>\n",
       "      <td>Female</td>\n",
       "      <td>Mrs</td>\n",
       "      <td>smt rekha prajapat</td>\n",
       "      <td>YES</td>\n",
       "      <td>2</td>\n",
       "      <td>Driver</td>\n",
       "      <td>Public</td>\n",
       "      <td>4</td>\n",
       "      <td>...</td>\n",
       "      <td>153</td>\n",
       "      <td>196</td>\n",
       "      <td>240</td>\n",
       "      <td>85</td>\n",
       "      <td>53</td>\n",
       "      <td>17</td>\n",
       "      <td>3</td>\n",
       "      <td>3900000</td>\n",
       "      <td>1300000</td>\n",
       "      <td>1</td>\n",
       "    </tr>\n",
       "    <tr>\n",
       "      <td>1</td>\n",
       "      <td>18664</td>\n",
       "      <td>Delhi</td>\n",
       "      <td>Male</td>\n",
       "      <td>Mr</td>\n",
       "      <td>nirmal</td>\n",
       "      <td>YES</td>\n",
       "      <td>2</td>\n",
       "      <td>Legal</td>\n",
       "      <td>Walk</td>\n",
       "      <td>4</td>\n",
       "      <td>...</td>\n",
       "      <td>95</td>\n",
       "      <td>138</td>\n",
       "      <td>241</td>\n",
       "      <td>81</td>\n",
       "      <td>61</td>\n",
       "      <td>2</td>\n",
       "      <td>5</td>\n",
       "      <td>1800000</td>\n",
       "      <td>1300000</td>\n",
       "      <td>1</td>\n",
       "    </tr>\n",
       "    <tr>\n",
       "      <td>2</td>\n",
       "      <td>5603</td>\n",
       "      <td>Delhi</td>\n",
       "      <td>Female</td>\n",
       "      <td>Mrs</td>\n",
       "      <td>pinky</td>\n",
       "      <td>YES</td>\n",
       "      <td>2</td>\n",
       "      <td>Sales</td>\n",
       "      <td>Car</td>\n",
       "      <td>4</td>\n",
       "      <td>...</td>\n",
       "      <td>40</td>\n",
       "      <td>166</td>\n",
       "      <td>236</td>\n",
       "      <td>88</td>\n",
       "      <td>47</td>\n",
       "      <td>24</td>\n",
       "      <td>3</td>\n",
       "      <td>5000000</td>\n",
       "      <td>2000000</td>\n",
       "      <td>2</td>\n",
       "    </tr>\n",
       "    <tr>\n",
       "      <td>3</td>\n",
       "      <td>5649</td>\n",
       "      <td>Delhi</td>\n",
       "      <td>Female</td>\n",
       "      <td>Mrs</td>\n",
       "      <td>pooja @aafrin</td>\n",
       "      <td>YES</td>\n",
       "      <td>2</td>\n",
       "      <td>Sales</td>\n",
       "      <td>Car</td>\n",
       "      <td>4</td>\n",
       "      <td>...</td>\n",
       "      <td>78</td>\n",
       "      <td>83</td>\n",
       "      <td>211</td>\n",
       "      <td>87</td>\n",
       "      <td>52</td>\n",
       "      <td>13</td>\n",
       "      <td>6</td>\n",
       "      <td>3100000</td>\n",
       "      <td>600000</td>\n",
       "      <td>2</td>\n",
       "    </tr>\n",
       "    <tr>\n",
       "      <td>4</td>\n",
       "      <td>5099</td>\n",
       "      <td>Delhi</td>\n",
       "      <td>Female</td>\n",
       "      <td>Mrs</td>\n",
       "      <td>anjali</td>\n",
       "      <td>YES</td>\n",
       "      <td>2</td>\n",
       "      <td>Business</td>\n",
       "      <td>Car</td>\n",
       "      <td>4</td>\n",
       "      <td>...</td>\n",
       "      <td>109</td>\n",
       "      <td>207</td>\n",
       "      <td>312</td>\n",
       "      <td>94</td>\n",
       "      <td>68</td>\n",
       "      <td>39</td>\n",
       "      <td>5</td>\n",
       "      <td>2300000</td>\n",
       "      <td>1500000</td>\n",
       "      <td>1</td>\n",
       "    </tr>\n",
       "  </tbody>\n",
       "</table>\n",
       "<p>5 rows × 27 columns</p>\n",
       "</div>"
      ],
      "text/plain": [
       "   people_ID Region  Gender Designation                Name Married  Children  \\\n",
       "0       5942  Delhi  Female         Mrs  smt rekha prajapat     YES         2   \n",
       "1      18664  Delhi    Male          Mr              nirmal     YES         2   \n",
       "2       5603  Delhi  Female         Mrs               pinky     YES         2   \n",
       "3       5649  Delhi  Female         Mrs       pooja @aafrin     YES         2   \n",
       "4       5099  Delhi  Female         Mrs              anjali     YES         2   \n",
       "\n",
       "  Occupation Mode_transport  cases/1M  ...  Platelets  HBB  d-dimer  \\\n",
       "0     Driver         Public         4  ...        153  196      240   \n",
       "1      Legal           Walk         4  ...         95  138      241   \n",
       "2      Sales            Car         4  ...         40  166      236   \n",
       "3      Sales            Car         4  ...         78   83      211   \n",
       "4   Business            Car         4  ...        109  207      312   \n",
       "\n",
       "   Heart rate HDL cholesterol Charlson Index  Blood Glucose  Insurance  \\\n",
       "0          85              53             17              3    3900000   \n",
       "1          81              61              2              5    1800000   \n",
       "2          88              47             24              3    5000000   \n",
       "3          87              52             13              6    3100000   \n",
       "4          94              68             39              5    2300000   \n",
       "\n",
       "    salary  FT/month  \n",
       "0  1300000         1  \n",
       "1  1300000         1  \n",
       "2  2000000         2  \n",
       "3   600000         2  \n",
       "4  1500000         1  \n",
       "\n",
       "[5 rows x 27 columns]"
      ]
     },
     "execution_count": 44,
     "metadata": {},
     "output_type": "execute_result"
    }
   ],
   "source": [
    "test.head()"
   ]
  },
  {
   "cell_type": "code",
   "execution_count": 45,
   "metadata": {},
   "outputs": [
    {
     "data": {
      "text/plain": [
       "<matplotlib.axes._subplots.AxesSubplot at 0x7efde0e8b1d0>"
      ]
     },
     "execution_count": 45,
     "metadata": {},
     "output_type": "execute_result"
    },
    {
     "data": {
      "image/png": "[encoded data removed]",
      "text/plain": [
       "<Figure size 432x288 with 1 Axes>"
      ]
     },
     "metadata": {
      "needs_background": "light"
     },
     "output_type": "display_data"
    }
   ],
   "source": [
    "sns.heatmap(test.isnull(),yticklabels=False,cbar=False,cmap='viridis')"
   ]
  },
  {
   "cell_type": "code",
   "execution_count": 46,
   "metadata": {},
   "outputs": [],
   "source": [
    "test.drop('Designation',axis=1,inplace=True)"
   ]
  },
  {
   "cell_type": "code",
   "execution_count": 47,
   "metadata": {},
   "outputs": [],
   "source": [
    "test.drop('Name',axis=1,inplace=True)"
   ]
  },
  {
   "cell_type": "code",
   "execution_count": 48,
   "metadata": {},
   "outputs": [
    {
     "name": "stdout",
     "output_type": "stream",
     "text": [
      "<class 'pandas.core.frame.DataFrame'>\n",
      "RangeIndex: 14498 entries, 0 to 14497\n",
      "Data columns (total 25 columns):\n",
      "people_ID                 14498 non-null int64\n",
      "Region                    14498 non-null object\n",
      "Gender                    14498 non-null object\n",
      "Married                   14498 non-null object\n",
      "Children                  14498 non-null int64\n",
      "Occupation                14498 non-null object\n",
      "Mode_transport            14498 non-null object\n",
      "cases/1M                  14498 non-null int64\n",
      "Deaths/1M                 14498 non-null int64\n",
      "comorbidity               14498 non-null object\n",
      "Age                       14498 non-null int64\n",
      "Coma score                14498 non-null int64\n",
      "Pulmonary score           14498 non-null object\n",
      "cardiological pressure    14498 non-null object\n",
      "Diuresis                  14498 non-null int64\n",
      "Platelets                 14498 non-null int64\n",
      "HBB                       14498 non-null int64\n",
      "d-dimer                   14498 non-null int64\n",
      "Heart rate                14498 non-null int64\n",
      "HDL cholesterol           14498 non-null int64\n",
      "Charlson Index            14498 non-null int64\n",
      "Blood Glucose             14498 non-null int64\n",
      "Insurance                 14498 non-null int64\n",
      "salary                    14498 non-null int64\n",
      "FT/month                  14498 non-null int64\n",
      "dtypes: int64(17), object(8)\n",
      "memory usage: 2.8+ MB\n"
     ]
    }
   ],
   "source": [
    "test.info()"
   ]
  },
  {
   "cell_type": "code",
   "execution_count": 49,
   "metadata": {},
   "outputs": [],
   "source": [
    "sex = pd.get_dummies(test['Gender'],drop_first=True)"
   ]
  },
  {
   "cell_type": "code",
   "execution_count": 50,
   "metadata": {},
   "outputs": [],
   "source": [
    "Location = pd.get_dummies(test['Region'],drop_first=True)"
   ]
  },
  {
   "cell_type": "code",
   "execution_count": 51,
   "metadata": {},
   "outputs": [],
   "source": [
    "Marry = pd.get_dummies(test['Married'],drop_first=True)"
   ]
  },
  {
   "cell_type": "code",
   "execution_count": 52,
   "metadata": {},
   "outputs": [],
   "source": [
    "Transport = pd.get_dummies(test['Mode_transport'],drop_first=True)"
   ]
  },
  {
   "cell_type": "code",
   "execution_count": 53,
   "metadata": {},
   "outputs": [],
   "source": [
    "Comor = pd.get_dummies(test['comorbidity'],drop_first=True)"
   ]
  },
  {
   "cell_type": "code",
   "execution_count": 54,
   "metadata": {},
   "outputs": [],
   "source": [
    "Pressure = pd.get_dummies(test['cardiological pressure'],drop_first=True)"
   ]
  },
  {
   "cell_type": "code",
   "execution_count": 55,
   "metadata": {},
   "outputs": [],
   "source": [
    "test = pd.concat([test,sex,Location,Marry,Transport,Comor,Pressure],axis=1)"
   ]
  },
  {
   "cell_type": "code",
   "execution_count": 56,
   "metadata": {},
   "outputs": [
    {
     "name": "stdout",
     "output_type": "stream",
     "text": [
      "<class 'pandas.core.frame.DataFrame'>\n",
      "RangeIndex: 14498 entries, 0 to 14497\n",
      "Data columns (total 40 columns):\n",
      "people_ID                 14498 non-null int64\n",
      "Region                    14498 non-null object\n",
      "Gender                    14498 non-null object\n",
      "Married                   14498 non-null object\n",
      "Children                  14498 non-null int64\n",
      "Occupation                14498 non-null object\n",
      "Mode_transport            14498 non-null object\n",
      "cases/1M                  14498 non-null int64\n",
      "Deaths/1M                 14498 non-null int64\n",
      "comorbidity               14498 non-null object\n",
      "Age                       14498 non-null int64\n",
      "Coma score                14498 non-null int64\n",
      "Pulmonary score           14498 non-null object\n",
      "cardiological pressure    14498 non-null object\n",
      "Diuresis                  14498 non-null int64\n",
      "Platelets                 14498 non-null int64\n",
      "HBB                       14498 non-null int64\n",
      "d-dimer                   14498 non-null int64\n",
      "Heart rate                14498 non-null int64\n",
      "HDL cholesterol           14498 non-null int64\n",
      "Charlson Index            14498 non-null int64\n",
      "Blood Glucose             14498 non-null int64\n",
      "Insurance                 14498 non-null int64\n",
      "salary                    14498 non-null int64\n",
      "FT/month                  14498 non-null int64\n",
      "Male                      14498 non-null uint8\n",
      "Hyderabad                 14498 non-null uint8\n",
      "Kolkata                   14498 non-null uint8\n",
      "Mumbai                    14498 non-null uint8\n",
      "Pune                      14498 non-null uint8\n",
      "Thiruvananthapuram        14498 non-null uint8\n",
      "YES                       14498 non-null uint8\n",
      "Public                    14498 non-null uint8\n",
      "Walk                      14498 non-null uint8\n",
      "Diabetes                  14498 non-null uint8\n",
      "Hypertension              14498 non-null uint8\n",
      "None                      14498 non-null uint8\n",
      "Normal                    14498 non-null uint8\n",
      "Stage-01                  14498 non-null uint8\n",
      "Stage-02                  14498 non-null uint8\n",
      "dtypes: int64(17), object(8), uint8(15)\n",
      "memory usage: 3.0+ MB\n"
     ]
    }
   ],
   "source": [
    "test.info()"
   ]
  },
  {
   "cell_type": "code",
   "execution_count": 69,
   "metadata": {},
   "outputs": [],
   "source": [
    "test.drop('Region',axis=1,inplace=True)"
   ]
  },
  {
   "cell_type": "code",
   "execution_count": 70,
   "metadata": {},
   "outputs": [],
   "source": [
    "test.drop('Gender',axis=1,inplace=True)"
   ]
  },
  {
   "cell_type": "code",
   "execution_count": 71,
   "metadata": {},
   "outputs": [],
   "source": [
    "test.drop('Mode_transport',axis=1,inplace=True)"
   ]
  },
  {
   "cell_type": "code",
   "execution_count": 72,
   "metadata": {},
   "outputs": [],
   "source": [
    "test.drop('Married',axis=1,inplace=True)"
   ]
  },
  {
   "cell_type": "code",
   "execution_count": 73,
   "metadata": {},
   "outputs": [],
   "source": [
    "test.drop('comorbidity',axis=1,inplace=True)"
   ]
  },
  {
   "cell_type": "code",
   "execution_count": 74,
   "metadata": {},
   "outputs": [],
   "source": [
    "test.drop('cardiological pressure',axis=1,inplace=True)"
   ]
  },
  {
   "cell_type": "code",
   "execution_count": 78,
   "metadata": {},
   "outputs": [
    {
     "name": "stdout",
     "output_type": "stream",
     "text": [
      "<class 'pandas.core.frame.DataFrame'>\n",
      "RangeIndex: 14498 entries, 0 to 14497\n",
      "Data columns (total 33 columns):\n",
      "people_ID             14498 non-null int64\n",
      "Children              14498 non-null int64\n",
      "cases/1M              14498 non-null int64\n",
      "Deaths/1M             14498 non-null int64\n",
      "Age                   14498 non-null int64\n",
      "Coma score            14498 non-null int64\n",
      "Pulmonary score       14498 non-null object\n",
      "Diuresis              14498 non-null int64\n",
      "Platelets             14498 non-null int64\n",
      "HBB                   14498 non-null int64\n",
      "d-dimer               14498 non-null int64\n",
      "Heart rate            14498 non-null int64\n",
      "HDL cholesterol       14498 non-null int64\n",
      "Charlson Index        14498 non-null int64\n",
      "Blood Glucose         14498 non-null int64\n",
      "Insurance             14498 non-null int64\n",
      "salary                14498 non-null int64\n",
      "FT/month              14498 non-null int64\n",
      "Male                  14498 non-null uint8\n",
      "Hyderabad             14498 non-null uint8\n",
      "Kolkata               14498 non-null uint8\n",
      "Mumbai                14498 non-null uint8\n",
      "Pune                  14498 non-null uint8\n",
      "Thiruvananthapuram    14498 non-null uint8\n",
      "YES                   14498 non-null uint8\n",
      "Public                14498 non-null uint8\n",
      "Walk                  14498 non-null uint8\n",
      "Diabetes              14498 non-null uint8\n",
      "Hypertension          14498 non-null uint8\n",
      "None                  14498 non-null uint8\n",
      "Normal                14498 non-null uint8\n",
      "Stage-01              14498 non-null uint8\n",
      "Stage-02              14498 non-null uint8\n",
      "dtypes: int64(17), object(1), uint8(15)\n",
      "memory usage: 2.2+ MB\n"
     ]
    }
   ],
   "source": [
    "test.info()"
   ]
  },
  {
   "cell_type": "code",
   "execution_count": 77,
   "metadata": {},
   "outputs": [],
   "source": [
    "test.drop('Occupation',axis=1,inplace=True)"
   ]
  },
  {
   "cell_type": "code",
   "execution_count": 82,
   "metadata": {},
   "outputs": [
    {
     "data": {
      "text/html": [
       "<div>\n",
       "<style scoped>\n",
       "    .dataframe tbody tr th:only-of-type {\n",
       "        vertical-align: middle;\n",
       "    }\n",
       "\n",
       "    .dataframe tbody tr th {\n",
       "        vertical-align: top;\n",
       "    }\n",
       "\n",
       "    .dataframe thead th {\n",
       "        text-align: right;\n",
       "    }\n",
       "</style>\n",
       "<table border=\"1\" class=\"dataframe\">\n",
       "  <thead>\n",
       "    <tr style=\"text-align: right;\">\n",
       "      <th></th>\n",
       "      <th>people_ID</th>\n",
       "      <th>Children</th>\n",
       "      <th>cases/1M</th>\n",
       "      <th>Deaths/1M</th>\n",
       "      <th>Age</th>\n",
       "      <th>Coma score</th>\n",
       "      <th>Pulmonary score</th>\n",
       "      <th>Diuresis</th>\n",
       "      <th>Platelets</th>\n",
       "      <th>HBB</th>\n",
       "      <th>...</th>\n",
       "      <th>Thiruvananthapuram</th>\n",
       "      <th>YES</th>\n",
       "      <th>Public</th>\n",
       "      <th>Walk</th>\n",
       "      <th>Diabetes</th>\n",
       "      <th>Hypertension</th>\n",
       "      <th>None</th>\n",
       "      <th>Normal</th>\n",
       "      <th>Stage-01</th>\n",
       "      <th>Stage-02</th>\n",
       "    </tr>\n",
       "  </thead>\n",
       "  <tbody>\n",
       "    <tr>\n",
       "      <td>0</td>\n",
       "      <td>5942</td>\n",
       "      <td>2</td>\n",
       "      <td>4</td>\n",
       "      <td>1</td>\n",
       "      <td>52</td>\n",
       "      <td>3</td>\n",
       "      <td>200</td>\n",
       "      <td>388</td>\n",
       "      <td>153</td>\n",
       "      <td>196</td>\n",
       "      <td>...</td>\n",
       "      <td>0</td>\n",
       "      <td>1</td>\n",
       "      <td>1</td>\n",
       "      <td>0</td>\n",
       "      <td>1</td>\n",
       "      <td>0</td>\n",
       "      <td>0</td>\n",
       "      <td>0</td>\n",
       "      <td>1</td>\n",
       "      <td>0</td>\n",
       "    </tr>\n",
       "    <tr>\n",
       "      <td>1</td>\n",
       "      <td>18664</td>\n",
       "      <td>2</td>\n",
       "      <td>4</td>\n",
       "      <td>1</td>\n",
       "      <td>53</td>\n",
       "      <td>11</td>\n",
       "      <td>200</td>\n",
       "      <td>409</td>\n",
       "      <td>95</td>\n",
       "      <td>138</td>\n",
       "      <td>...</td>\n",
       "      <td>0</td>\n",
       "      <td>1</td>\n",
       "      <td>0</td>\n",
       "      <td>1</td>\n",
       "      <td>1</td>\n",
       "      <td>0</td>\n",
       "      <td>0</td>\n",
       "      <td>0</td>\n",
       "      <td>1</td>\n",
       "      <td>0</td>\n",
       "    </tr>\n",
       "    <tr>\n",
       "      <td>2</td>\n",
       "      <td>5603</td>\n",
       "      <td>2</td>\n",
       "      <td>4</td>\n",
       "      <td>1</td>\n",
       "      <td>35</td>\n",
       "      <td>9</td>\n",
       "      <td>100</td>\n",
       "      <td>440</td>\n",
       "      <td>40</td>\n",
       "      <td>166</td>\n",
       "      <td>...</td>\n",
       "      <td>0</td>\n",
       "      <td>1</td>\n",
       "      <td>0</td>\n",
       "      <td>0</td>\n",
       "      <td>1</td>\n",
       "      <td>0</td>\n",
       "      <td>0</td>\n",
       "      <td>0</td>\n",
       "      <td>0</td>\n",
       "      <td>1</td>\n",
       "    </tr>\n",
       "    <tr>\n",
       "      <td>3</td>\n",
       "      <td>5649</td>\n",
       "      <td>2</td>\n",
       "      <td>4</td>\n",
       "      <td>1</td>\n",
       "      <td>31</td>\n",
       "      <td>12</td>\n",
       "      <td>300</td>\n",
       "      <td>206</td>\n",
       "      <td>78</td>\n",
       "      <td>83</td>\n",
       "      <td>...</td>\n",
       "      <td>0</td>\n",
       "      <td>1</td>\n",
       "      <td>0</td>\n",
       "      <td>0</td>\n",
       "      <td>0</td>\n",
       "      <td>0</td>\n",
       "      <td>1</td>\n",
       "      <td>0</td>\n",
       "      <td>0</td>\n",
       "      <td>0</td>\n",
       "    </tr>\n",
       "    <tr>\n",
       "      <td>4</td>\n",
       "      <td>5099</td>\n",
       "      <td>2</td>\n",
       "      <td>4</td>\n",
       "      <td>1</td>\n",
       "      <td>51</td>\n",
       "      <td>6</td>\n",
       "      <td>200</td>\n",
       "      <td>229</td>\n",
       "      <td>109</td>\n",
       "      <td>207</td>\n",
       "      <td>...</td>\n",
       "      <td>0</td>\n",
       "      <td>1</td>\n",
       "      <td>0</td>\n",
       "      <td>0</td>\n",
       "      <td>1</td>\n",
       "      <td>0</td>\n",
       "      <td>0</td>\n",
       "      <td>0</td>\n",
       "      <td>1</td>\n",
       "      <td>0</td>\n",
       "    </tr>\n",
       "  </tbody>\n",
       "</table>\n",
       "<p>5 rows × 33 columns</p>\n",
       "</div>"
      ],
      "text/plain": [
       "   people_ID  Children  cases/1M  Deaths/1M  Age  Coma score Pulmonary score  \\\n",
       "0       5942         2         4          1   52           3             200   \n",
       "1      18664         2         4          1   53          11             200   \n",
       "2       5603         2         4          1   35           9             100   \n",
       "3       5649         2         4          1   31          12             300   \n",
       "4       5099         2         4          1   51           6             200   \n",
       "\n",
       "   Diuresis  Platelets  HBB  ...  Thiruvananthapuram  YES  Public  Walk  \\\n",
       "0       388        153  196  ...                   0    1       1     0   \n",
       "1       409         95  138  ...                   0    1       0     1   \n",
       "2       440         40  166  ...                   0    1       0     0   \n",
       "3       206         78   83  ...                   0    1       0     0   \n",
       "4       229        109  207  ...                   0    1       0     0   \n",
       "\n",
       "   Diabetes  Hypertension  None  Normal  Stage-01  Stage-02  \n",
       "0         1             0     0       0         1         0  \n",
       "1         1             0     0       0         1         0  \n",
       "2         1             0     0       0         0         1  \n",
       "3         0             0     1       0         0         0  \n",
       "4         1             0     0       0         1         0  \n",
       "\n",
       "[5 rows x 33 columns]"
      ]
     },
     "execution_count": 82,
     "metadata": {},
     "output_type": "execute_result"
    }
   ],
   "source": [
    "test.head()"
   ]
  },
  {
   "cell_type": "code",
   "execution_count": 81,
   "metadata": {},
   "outputs": [],
   "source": [
    "test['Pulmonary score'] = test['Pulmonary score'].map(lambda x: x.lstrip('<').rstrip('aAbBcC'))"
   ]
  },
  {
   "cell_type": "code",
   "execution_count": 83,
   "metadata": {},
   "outputs": [
    {
     "name": "stdout",
     "output_type": "stream",
     "text": [
      "<class 'pandas.core.frame.DataFrame'>\n",
      "RangeIndex: 14498 entries, 0 to 14497\n",
      "Data columns (total 33 columns):\n",
      "people_ID             14498 non-null int64\n",
      "Children              14498 non-null int64\n",
      "cases/1M              14498 non-null int64\n",
      "Deaths/1M             14498 non-null int64\n",
      "Age                   14498 non-null int64\n",
      "Coma score            14498 non-null int64\n",
      "Pulmonary score       14498 non-null object\n",
      "Diuresis              14498 non-null int64\n",
      "Platelets             14498 non-null int64\n",
      "HBB                   14498 non-null int64\n",
      "d-dimer               14498 non-null int64\n",
      "Heart rate            14498 non-null int64\n",
      "HDL cholesterol       14498 non-null int64\n",
      "Charlson Index        14498 non-null int64\n",
      "Blood Glucose         14498 non-null int64\n",
      "Insurance             14498 non-null int64\n",
      "salary                14498 non-null int64\n",
      "FT/month              14498 non-null int64\n",
      "Male                  14498 non-null uint8\n",
      "Hyderabad             14498 non-null uint8\n",
      "Kolkata               14498 non-null uint8\n",
      "Mumbai                14498 non-null uint8\n",
      "Pune                  14498 non-null uint8\n",
      "Thiruvananthapuram    14498 non-null uint8\n",
      "YES                   14498 non-null uint8\n",
      "Public                14498 non-null uint8\n",
      "Walk                  14498 non-null uint8\n",
      "Diabetes              14498 non-null uint8\n",
      "Hypertension          14498 non-null uint8\n",
      "None                  14498 non-null uint8\n",
      "Normal                14498 non-null uint8\n",
      "Stage-01              14498 non-null uint8\n",
      "Stage-02              14498 non-null uint8\n",
      "dtypes: int64(17), object(1), uint8(15)\n",
      "memory usage: 2.2+ MB\n"
     ]
    }
   ],
   "source": [
    "test.info()"
   ]
  },
  {
   "cell_type": "code",
   "execution_count": 87,
   "metadata": {},
   "outputs": [],
   "source": [
    "test.drop('Thiruvananthapuram',axis=1,inplace=True)"
   ]
  },
  {
   "cell_type": "code",
   "execution_count": 88,
   "metadata": {},
   "outputs": [
    {
     "name": "stdout",
     "output_type": "stream",
     "text": [
      "<class 'pandas.core.frame.DataFrame'>\n",
      "RangeIndex: 14498 entries, 0 to 14497\n",
      "Data columns (total 32 columns):\n",
      "people_ID          14498 non-null int64\n",
      "Children           14498 non-null int64\n",
      "cases/1M           14498 non-null int64\n",
      "Deaths/1M          14498 non-null int64\n",
      "Age                14498 non-null int64\n",
      "Coma score         14498 non-null int64\n",
      "Pulmonary score    14498 non-null object\n",
      "Diuresis           14498 non-null int64\n",
      "Platelets          14498 non-null int64\n",
      "HBB                14498 non-null int64\n",
      "d-dimer            14498 non-null int64\n",
      "Heart rate         14498 non-null int64\n",
      "HDL cholesterol    14498 non-null int64\n",
      "Charlson Index     14498 non-null int64\n",
      "Blood Glucose      14498 non-null int64\n",
      "Insurance          14498 non-null int64\n",
      "salary             14498 non-null int64\n",
      "FT/month           14498 non-null int64\n",
      "Male               14498 non-null uint8\n",
      "Hyderabad          14498 non-null uint8\n",
      "Kolkata            14498 non-null uint8\n",
      "Mumbai             14498 non-null uint8\n",
      "Pune               14498 non-null uint8\n",
      "YES                14498 non-null uint8\n",
      "Public             14498 non-null uint8\n",
      "Walk               14498 non-null uint8\n",
      "Diabetes           14498 non-null uint8\n",
      "Hypertension       14498 non-null uint8\n",
      "None               14498 non-null uint8\n",
      "Normal             14498 non-null uint8\n",
      "Stage-01           14498 non-null uint8\n",
      "Stage-02           14498 non-null uint8\n",
      "dtypes: int64(17), object(1), uint8(14)\n",
      "memory usage: 2.2+ MB\n"
     ]
    }
   ],
   "source": [
    "test.info()"
   ]
  },
  {
   "cell_type": "code",
   "execution_count": 89,
   "metadata": {},
   "outputs": [],
   "source": [
    "test.to_csv('New_Test.csv',index=False)"
   ]
  },
  {
   "cell_type": "code",
   "execution_count": 90,
   "metadata": {},
   "outputs": [
    {
     "data": {
      "text/plain": [
       "Index(['people_ID', 'Children', 'cases/1M', 'Deaths/1M', 'Age', 'Coma score',\n",
       "       'Pulmonary score', 'Diuresis', 'Platelets', 'HBB', 'd-dimer',\n",
       "       'Heart rate', 'HDL cholesterol', 'Charlson Index', 'Blood Glucose',\n",
       "       'Insurance', 'salary', 'FT/month', 'Male', 'Hyderabad', 'Kolkata',\n",
       "       'Mumbai', 'Pune', 'YES', 'Public', 'Walk', 'Diabetes', 'Hypertension',\n",
       "       'None', 'Normal', 'Stage-01', 'Stage-02'],\n",
       "      dtype='object')"
      ]
     },
     "execution_count": 90,
     "metadata": {},
     "output_type": "execute_result"
    }
   ],
   "source": [
    "test.columns"
   ]
  },
  {
   "cell_type": "code",
   "execution_count": null,
   "metadata": {},
   "outputs": [],
   "source": [
    "New_Test = pd.concat([New_Test,],axis=1)"
   ]
  }
 ],
 "metadata": {
  "kernelspec": {
   "display_name": "Python 3",
   "language": "python",
   "name": "python3"
  },
  "language_info": {
   "codemirror_mode": {
    "name": "ipython",
    "version": 3
   },
   "file_extension": ".py",
   "mimetype": "text/x-python",
   "name": "python",
   "nbconvert_exporter": "python",
   "pygments_lexer": "ipython3",
   "version": "3.7.4"
  }
 },
 "nbformat": 4,
 "nbformat_minor": 2
}
